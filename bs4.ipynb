{
 "metadata": {
  "language_info": {
   "codemirror_mode": {
    "name": "ipython",
    "version": 3
   },
   "file_extension": ".py",
   "mimetype": "text/x-python",
   "name": "python",
   "nbconvert_exporter": "python",
   "pygments_lexer": "ipython3",
   "version": "3.8.3-final"
  },
  "orig_nbformat": 2,
  "kernelspec": {
   "name": "python_defaultSpec_1598592653283",
   "display_name": "Python 3.8.3 64-bit ('base': conda)"
  }
 },
 "nbformat": 4,
 "nbformat_minor": 2,
 "cells": [
  {
   "cell_type": "code",
   "execution_count": 2,
   "metadata": {},
   "outputs": [],
   "source": [
    "from bs4 import BeautifulSoup\n",
    "import requests"
   ]
  },
  {
   "cell_type": "code",
   "execution_count": 4,
   "metadata": {},
   "outputs": [],
   "source": [
    "response = requests.get('https://webscraper.io/test-sites/e-commerce/allinone/computers')"
   ]
  },
  {
   "cell_type": "code",
   "execution_count": 5,
   "metadata": {},
   "outputs": [],
   "source": [
    "soup = BeautifulSoup(response.text,'lxml')"
   ]
  },
  {
   "cell_type": "code",
   "execution_count": 6,
   "metadata": {},
   "outputs": [
    {
     "output_type": "execute_result",
     "data": {
      "text/plain": "<!DOCTYPE html>\n<html lang=\"en\">\n<head>\n<!-- Anti-flicker snippet (recommended)  -->\n<style>.async-hide {\n\t\topacity: 0 !important\n\t} </style>\n<script>(function (a, s, y, n, c, h, i, d, e) {\n\t\ts.className += ' ' + y;\n\t\th.start = 1 * new Date;\n\t\th.end = i = function () {\n\t\t\ts.className = s.className.replace(RegExp(' ?' + y), '')\n\t\t};\n\t\t(a[n] = a[n] || []).hide = h;\n\t\tsetTimeout(function () {\n\t\t\ti();\n\t\t\th.end = null\n\t\t}, c);\n\t\th.timeout = c;\n\t})(window, document.documentElement, 'async-hide', 'dataLayer', 4000,\n\t\t{'GTM-NVFPDWB': true});</script>\n<!-- Google Tag Manager -->\n<script>(function (w, d, s, l, i) {\n\t\tw[l] = w[l] || [];\n\t\tw[l].push({\n\t\t\t'gtm.start':\n\t\t\t\tnew Date().getTime(), event: 'gtm.js'\n\t\t});\n\t\tvar f = d.getElementsByTagName(s)[0],\n\t\t\tj = d.createElement(s), dl = l != 'dataLayer' ? '&l=' + l : '';\n\t\tj.async = true;\n\t\tj.src =\n\t\t\t'https://www.googletagmanager.com/gtm.js?id=' + i + dl;\n\t\tf.parentNode.insertBefore(j, f);\n\t})(window, document, 'script', 'dataLayer', 'GTM-NVFPDWB');</script>\n<!-- End Google Tag Manager -->\n<title>Web Scraper Test Sites</title>\n<meta charset=\"utf-8\"/>\n<meta content=\"IE=edge,chrome=1\" http-equiv=\"X-UA-Compatible\"/>\n<meta content=\"web scraping,Web Scraper,Chrome extension,Crawling,Cross platform scraper, \" name=\"keywords\"/>\n<meta content=\"The most popular web scraping extension. Start scraping in minutes. Automate your tasks with our Cloud Scraper. No software to download, no coding needed.\" name=\"description\"/>\n<link href=\"/favicon.png\" rel=\"icon\" sizes=\"128x128\"/>\n<meta content=\"width=device-width, initial-scale=1.0\" name=\"viewport\"/>\n<link href=\"/css/app.css?id=65f9340f8968c1ae6e49\" rel=\"stylesheet\"/>\n<link href=\"https://webscraper.io/test-sites/e-commerce/allinone/computers\" rel=\"canonical\"/>\n<link href=\"/img/logo-icon.png\" rel=\"apple-touch-icon\"/>\n<script defer=\"\" src=\"/js/app.js?id=0cc5719a0256364c5d31\"></script>\n</head>\n<body>\n<!-- Google Tag Manager (noscript) -->\n<noscript>\n<iframe height=\"0\" src=\"https://www.googletagmanager.com/ns.html?id=GTM-NVFPDWB\" style=\"display:none;visibility:hidden\" width=\"0\"></iframe>\n</noscript>\n<!-- End Google Tag Manager (noscript) -->\n<header class=\"navbar navbar-fixed-top navbar-static\" role=\"banner\">\n<div class=\"container\">\n<div class=\"navbar-header\">\n<a data-target=\".side-collapse\" data-target-2=\".side-collapse-container\" data-toggle=\"collapse-side\">\n<button aria-controls=\"navbar\" aria-expanded=\"false\" class=\"navbar-toggle pull-right collapsed\" data-target=\"#navbar\" data-target-2=\".side-collapse-container\" data-target-3=\".side-collapse\" data-toggle=\"collapse\" type=\"button\">\n<span class=\"sr-only\">Toggle navigation</span>\n<span class=\"icon-bar top-bar\"></span>\n<span class=\"icon-bar middle-bar\"></span>\n<span class=\"icon-bar bottom-bar\"></span>\n</button>\n</a>\n<div class=\"navbar-brand\">\n<a href=\"/\"><img alt=\"Web Scraper\" src=\"/img/logo_white.svg\"/></a>\n</div>\n</div>\n<div class=\"side-collapse in\">\n<nav class=\"navbar-collapse collapse\" id=\"navbar\" role=\"navigation\">\n<ul class=\"nav navbar-nav navbar-right\">\n<li class=\"hidden\">\n<a href=\"#page-top\"></a>\n</li>\n<li>\n<a class=\"menuitm\" href=\"/\">\n<p>Web Scraper</p>\n<div class=\"crta\"></div>\n</a>\n</li>\n<li>\n<a class=\"menuitm\" href=\"/cloud-scraper\">\n<p>Cloud Scraper</p>\n<div class=\"crta\"></div>\n</a>\n</li>\n<li>\n<a class=\"menuitm\" href=\"/pricing\">\n<p>Pricing</p>\n<div class=\"crta\"></div>\n</a>\n</li>\n<li class=\"dropdown\">\n<a class=\"menuitm dropdown-toggle\" data-toggle=\"dropdown\" href=\"#section3\">\n<p>Learn</p>\n<div class=\"crta\"></div>\n</a>\n<ul class=\"dropdown-menu\">\n<li>\n<a href=\"/documentation\">Documentation</a>\n</li>\n<li>\n<a href=\"/tutorials\">Video Tutorials</a>\n</li>\n<li>\n<a href=\"/how-to-videos\">How to</a>\n</li>\n<li>\n<a href=\"/test-sites\">Test Sites</a>\n</li>\n<li>\n<a href=\"https://forum.webscraper.io/\" rel=\"noopener\" target=\"_blank\">Forum</a>\n</li>\n</ul>\n</li>\n<li>\n<a class=\"btn-menu1 install-extension\" href=\"https://chrome.google.com/webstore/detail/web-scraper/jnhgnonknehpejjnehehllkliplmbmhn?hl=en\" rel=\"noopener\" target=\"_blank\">Install</a>\n</li>\n<li>\n<a class=\"btn-menu2\" href=\"https://cloud.webscraper.io/\">Login</a>\n</li>\n</ul>\n</nav>\n</div>\n</div>\n</header>\n<div class=\"wrapper\">\n<div class=\"formenu-here container-fluid\">\n</div>\n<div class=\"container-fluid blog-hero\">\n<div class=\"container\">\n<div class=\"row\">\n<div class=\"col-md-12\">\n<h1>Test Sites</h1>\n</div>\n</div>\n</div>\n</div>\n<div class=\"container test-site\">\n<div class=\"row\">\n<div class=\"col-md-3 sidebar\">\n<div class=\"navbar-default sidebar\" role=\"navigation\">\n<div class=\"sidebar-nav navbar-collapse\">\n<ul class=\"nav\" id=\"side-menu\">\n<li>\n<a href=\"/test-sites/e-commerce/allinone\">Home</a>\n</li>\n<li class=\"active\">\n<a class=\"category-link active\" href=\"/test-sites/e-commerce/allinone/computers\">\n\t\t\t\t\tComputers\n\t\t\t\t\t<span class=\"fa arrow\"></span>\n</a>\n<ul class=\"nav nav-second-level collapse in\">\n<li>\n<a class=\"subcategory-link\" href=\"/test-sites/e-commerce/allinone/computers/laptops\">\n\t\t\t\t\t\t\tLaptops\n\t\t\t\t\t\t</a>\n</li>\n<li>\n<a class=\"subcategory-link\" href=\"/test-sites/e-commerce/allinone/computers/tablets\">\n\t\t\t\t\t\t\tTablets\n\t\t\t\t\t\t</a>\n</li>\n</ul>\n</li>\n<li>\n<a class=\"category-link\" href=\"/test-sites/e-commerce/allinone/phones\">\n\t\t\t\t\tPhones\n\t\t\t\t\t<span class=\"fa arrow\"></span>\n</a>\n</li>\n</ul>\n</div>\n</div>\n</div>\n<div class=\"col-md-9\">\n<h1 class=\"page-header\">Computers category</h1>\n<h2>Top items being scraped right now</h2>\n<div class=\"row\">\n<div class=\"col-sm-4 col-lg-4 col-md-4\">\n<div class=\"thumbnail\">\n<img alt=\"item\" class=\"img-responsive\" src=\"/images/test-sites/e-commerce/items/cart2.png\"/>\n<div class=\"caption\">\n<h4 class=\"pull-right price\">$484.23</h4>\n<h4>\n<a class=\"title\" href=\"/test-sites/e-commerce/allinone/product/572\" title=\"Lenovo V510 Black\">Lenovo V510 Blac...</a>\n</h4>\n<p class=\"description\">Lenovo V510 Black, 14\" HD, Core i3-6006U, 4GB, 128GB SSD, Windows 10 Home</p>\n</div>\n<div class=\"ratings\">\n<p class=\"pull-right\">8 reviews</p>\n<p data-rating=\"3\">\n<span class=\"glyphicon glyphicon-star\"></span>\n<span class=\"glyphicon glyphicon-star\"></span>\n<span class=\"glyphicon glyphicon-star\"></span>\n</p>\n</div>\n</div>\n</div>\n<div class=\"col-sm-4 col-lg-4 col-md-4\">\n<div class=\"thumbnail\">\n<img alt=\"item\" class=\"img-responsive\" src=\"/images/test-sites/e-commerce/items/cart2.png\"/>\n<div class=\"caption\">\n<h4 class=\"pull-right price\">$1170.10</h4>\n<h4>\n<a class=\"title\" href=\"/test-sites/e-commerce/allinone/product/601\" title=\"Acer TravelMate P645-S-511A Black\">Acer TravelMate...</a>\n</h4>\n<p class=\"description\">Acer TravelMate P645-S-511A Black, 14\" FHD IPS, Core i5-5200U, 8GB, 256GB SSD, 3G, Windows 10 Pro</p>\n</div>\n<div class=\"ratings\">\n<p class=\"pull-right\">0 reviews</p>\n<p data-rating=\"1\">\n<span class=\"glyphicon glyphicon-star\"></span>\n</p>\n</div>\n</div>\n</div>\n<div class=\"col-sm-4 col-lg-4 col-md-4\">\n<div class=\"thumbnail\">\n<img alt=\"item\" class=\"img-responsive\" src=\"/images/test-sites/e-commerce/items/cart2.png\"/>\n<div class=\"caption\">\n<h4 class=\"pull-right price\">$1179.00</h4>\n<h4>\n<a class=\"title\" href=\"/test-sites/e-commerce/allinone/product/603\" title=\"MSI GS63 7RD Stealth\">MSI GS63 7RD Ste...</a>\n</h4>\n<p class=\"description\">MSI GS63 7RD Stealth, 15.6\" FHD IPS, Core i7-7700HQ, 8GB, 256GB SSD, GeForce GTX 1050 2GB, DOS + Windows 10 Home</p>\n</div>\n<div class=\"ratings\">\n<p class=\"pull-right\">2 reviews</p>\n<p data-rating=\"1\">\n<span class=\"glyphicon glyphicon-star\"></span>\n</p>\n</div>\n</div>\n</div>\n</div>\n</div>\n</div>\n</div>\n<div class=\"clearfix\"></div>\n<div class=\"push\"></div>\n</div>\n<div class=\"container-fluid footer\" id=\"layout-footer\">\n<div class=\"container\">\n<div class=\"row\">\n<div class=\"col-md-3\">\n<ul>\n<li><p>Products</p></li>\n<li>\n<a href=\"/\">Web Scraper browser extension</a>\n</li>\n<li>\n<a href=\"/pricing\">Web Scraper Cloud</a>\n</li>\n</ul>\n</div>\n<div class=\"col-md-3\">\n<ul>\n<li><p>Company</p></li>\n<li><a href=\"/contact\">Contact</a>\n</li>\n<li>\n<a href=\"/privacy-policy\">Website Privacy Policy</a>\n</li>\n<li>\n<a href=\"/extension-privacy-policy\">Browser Extension Privacy Policy</a>\n</li>\n<li>\n<a href=\"http://webscraperio.us-east-1.elasticbeanstalk.com/downloads/Web_Scraper_Media_Kit.zip\">Media kit</a>\n</li>\n<li><a href=\"/jobs\">Jobs</a></li>\n</ul>\n</div>\n<div class=\"col-md-3\">\n<ul>\n<li><p>Resources</p></li>\n<li><a href=\"/blog\">Blog</a></li>\n<li>\n<a href=\"/documentation\">Documentation</a>\n</li>\n<li>\n<a href=\"/tutorials\">Video Tutorials</a>\n</li>\n<li>\n<a href=\"/screenshots\">Screenshots</a>\n</li>\n<li>\n<a href=\"/test-sites\">Test Sites</a>\n</li>\n<li>\n<a href=\"https://forum.webscraper.io/\" rel=\"noopener\" target=\"_blank\">Forum</a>\n</li>\n</ul>\n</div>\n<div class=\"col-md-3\">\n<ul>\n<li><p>CONTACT US</p></li>\n<li>\n<a href=\"mailto:info@webscraper.io\">info@webscraper.io</a>\n</li>\n<li>Rupniecibas iela 30,<br/> Riga, Latvia, LV-1045</li>\n</ul>\n<ul class=\"smedia\">\n<li>\n<a href=\"https://www.facebook.com/webscraperio/\" rel=\"noopener\" target=\"_blank\"><img alt=\"Web Scraper on Facebook\" src=\"/img/fbicon.png\"/></a>\n</li>\n<li>\n<a href=\"https://twitter.com/webscraperio\" rel=\"noopener\" target=\"_blank\"><img alt=\"Web Scraper on Twitter\" src=\"/img/twicon.png\"/></a>\n</li>\n</ul>\n</div>\n</div>\n<div class=\"row\">\n<div class=\"col-md-12\">\n<p class=\"copyright\">Copyright &amp;copy 2020\n\t\t\t\t\t<a href=\"#\">Web Scraper</a> | All rights\n\t\t\t\t\treserved | Made by zoom59</p>\n</div>\n</div>\n</div>\n</div>\n</body>\n</html>"
     },
     "metadata": {},
     "execution_count": 6
    }
   ],
   "source": [
    "soup"
   ]
  },
  {
   "cell_type": "code",
   "execution_count": 9,
   "metadata": {},
   "outputs": [],
   "source": [
    "tags_div = soup.select('div')"
   ]
  },
  {
   "cell_type": "code",
   "execution_count": 10,
   "metadata": {},
   "outputs": [
    {
     "output_type": "execute_result",
     "data": {
      "text/plain": "<div class=\"container\">\n<div class=\"navbar-header\">\n<a data-target=\".side-collapse\" data-target-2=\".side-collapse-container\" data-toggle=\"collapse-side\">\n<button aria-controls=\"navbar\" aria-expanded=\"false\" class=\"navbar-toggle pull-right collapsed\" data-target=\"#navbar\" data-target-2=\".side-collapse-container\" data-target-3=\".side-collapse\" data-toggle=\"collapse\" type=\"button\">\n<span class=\"sr-only\">Toggle navigation</span>\n<span class=\"icon-bar top-bar\"></span>\n<span class=\"icon-bar middle-bar\"></span>\n<span class=\"icon-bar bottom-bar\"></span>\n</button>\n</a>\n<div class=\"navbar-brand\">\n<a href=\"/\"><img alt=\"Web Scraper\" src=\"/img/logo_white.svg\"/></a>\n</div>\n</div>\n<div class=\"side-collapse in\">\n<nav class=\"navbar-collapse collapse\" id=\"navbar\" role=\"navigation\">\n<ul class=\"nav navbar-nav navbar-right\">\n<li class=\"hidden\">\n<a href=\"#page-top\"></a>\n</li>\n<li>\n<a class=\"menuitm\" href=\"/\">\n<p>Web Scraper</p>\n<div class=\"crta\"></div>\n</a>\n</li>\n<li>\n<a class=\"menuitm\" href=\"/cloud-scraper\">\n<p>Cloud Scraper</p>\n<div class=\"crta\"></div>\n</a>\n</li>\n<li>\n<a class=\"menuitm\" href=\"/pricing\">\n<p>Pricing</p>\n<div class=\"crta\"></div>\n</a>\n</li>\n<li class=\"dropdown\">\n<a class=\"menuitm dropdown-toggle\" data-toggle=\"dropdown\" href=\"#section3\">\n<p>Learn</p>\n<div class=\"crta\"></div>\n</a>\n<ul class=\"dropdown-menu\">\n<li>\n<a href=\"/documentation\">Documentation</a>\n</li>\n<li>\n<a href=\"/tutorials\">Video Tutorials</a>\n</li>\n<li>\n<a href=\"/how-to-videos\">How to</a>\n</li>\n<li>\n<a href=\"/test-sites\">Test Sites</a>\n</li>\n<li>\n<a href=\"https://forum.webscraper.io/\" rel=\"noopener\" target=\"_blank\">Forum</a>\n</li>\n</ul>\n</li>\n<li>\n<a class=\"btn-menu1 install-extension\" href=\"https://chrome.google.com/webstore/detail/web-scraper/jnhgnonknehpejjnehehllkliplmbmhn?hl=en\" rel=\"noopener\" target=\"_blank\">Install</a>\n</li>\n<li>\n<a class=\"btn-menu2\" href=\"https://cloud.webscraper.io/\">Login</a>\n</li>\n</ul>\n</nav>\n</div>\n</div>"
     },
     "metadata": {},
     "execution_count": 10
    }
   ],
   "source": [
    "tags_div[0]"
   ]
  },
  {
   "cell_type": "code",
   "execution_count": 39,
   "metadata": {},
   "outputs": [],
   "source": [
    "#Let's look for the portion of our html <div class='row'>\n",
    "tags_div = soup.select('div.row')"
   ]
  },
  {
   "cell_type": "code",
   "execution_count": 40,
   "metadata": {},
   "outputs": [
    {
     "output_type": "execute_result",
     "data": {
      "text/plain": "<div class=\"row\">\n<div class=\"col-md-12\">\n<h1>Test Sites</h1>\n</div>\n</div>"
     },
     "metadata": {},
     "execution_count": 40
    }
   ],
   "source": [
    "tags_div[0]"
   ]
  },
  {
   "cell_type": "code",
   "execution_count": 41,
   "metadata": {},
   "outputs": [
    {
     "output_type": "execute_result",
     "data": {
      "text/plain": "5"
     },
     "metadata": {},
     "execution_count": 41
    }
   ],
   "source": [
    "len(tags_div)"
   ]
  },
  {
   "cell_type": "code",
   "execution_count": 45,
   "metadata": {},
   "outputs": [],
   "source": [
    "tags_div = soup.select('div.row div.col-sm-4') #retrieve this div - class =row from inspecting the website."
   ]
  },
  {
   "cell_type": "code",
   "execution_count": 43,
   "metadata": {},
   "outputs": [
    {
     "output_type": "execute_result",
     "data": {
      "text/plain": "<div class=\"col-sm-4 col-lg-4 col-md-4\">\n<div class=\"thumbnail\">\n<img alt=\"item\" class=\"img-responsive\" src=\"/images/test-sites/e-commerce/items/cart2.png\"/>\n<div class=\"caption\">\n<h4 class=\"pull-right price\">$484.23</h4>\n<h4>\n<a class=\"title\" href=\"/test-sites/e-commerce/allinone/product/572\" title=\"Lenovo V510 Black\">Lenovo V510 Blac...</a>\n</h4>\n<p class=\"description\">Lenovo V510 Black, 14\" HD, Core i3-6006U, 4GB, 128GB SSD, Windows 10 Home</p>\n</div>\n<div class=\"ratings\">\n<p class=\"pull-right\">8 reviews</p>\n<p data-rating=\"3\">\n<span class=\"glyphicon glyphicon-star\"></span>\n<span class=\"glyphicon glyphicon-star\"></span>\n<span class=\"glyphicon glyphicon-star\"></span>\n</p>\n</div>\n</div>\n</div>"
     },
     "metadata": {},
     "execution_count": 43
    }
   ],
   "source": [
    "tags_div[0]"
   ]
  },
  {
   "cell_type": "code",
   "execution_count": 44,
   "metadata": {},
   "outputs": [
    {
     "output_type": "execute_result",
     "data": {
      "text/plain": "<div class=\"col-sm-4 col-lg-4 col-md-4\">\n<div class=\"thumbnail\">\n<img alt=\"item\" class=\"img-responsive\" src=\"/images/test-sites/e-commerce/items/cart2.png\"/>\n<div class=\"caption\">\n<h4 class=\"pull-right price\">$1179.00</h4>\n<h4>\n<a class=\"title\" href=\"/test-sites/e-commerce/allinone/product/603\" title=\"MSI GS63 7RD Stealth\">MSI GS63 7RD Ste...</a>\n</h4>\n<p class=\"description\">MSI GS63 7RD Stealth, 15.6\" FHD IPS, Core i7-7700HQ, 8GB, 256GB SSD, GeForce GTX 1050 2GB, DOS + Windows 10 Home</p>\n</div>\n<div class=\"ratings\">\n<p class=\"pull-right\">2 reviews</p>\n<p data-rating=\"1\">\n<span class=\"glyphicon glyphicon-star\"></span>\n</p>\n</div>\n</div>\n</div>"
     },
     "metadata": {},
     "execution_count": 44
    }
   ],
   "source": [
    "tags_div[2]"
   ]
  },
  {
   "cell_type": "code",
   "execution_count": 46,
   "metadata": {},
   "outputs": [
    {
     "output_type": "execute_result",
     "data": {
      "text/plain": "[<h4 class=\"pull-right price\">$484.23</h4>,\n <h4>\n <a class=\"title\" href=\"/test-sites/e-commerce/allinone/product/572\" title=\"Lenovo V510 Black\">Lenovo V510 Blac...</a>\n </h4>]"
     },
     "metadata": {},
     "execution_count": 46
    }
   ],
   "source": [
    "# Let's further scrape and obtain the price, description, and the rating\n",
    "tags_div[0].select('h4')"
   ]
  },
  {
   "cell_type": "code",
   "execution_count": 47,
   "metadata": {},
   "outputs": [
    {
     "output_type": "execute_result",
     "data": {
      "text/plain": "<h4 class=\"pull-right price\">$484.23</h4>"
     },
     "metadata": {},
     "execution_count": 47
    }
   ],
   "source": [
    "tags_div[0].select_one('h4')"
   ]
  },
  {
   "cell_type": "code",
   "execution_count": 48,
   "metadata": {},
   "outputs": [
    {
     "output_type": "execute_result",
     "data": {
      "text/plain": "'$484.23'"
     },
     "metadata": {},
     "execution_count": 48
    }
   ],
   "source": [
    "tags_div[0].select_one('h4').text"
   ]
  },
  {
   "cell_type": "code",
   "execution_count": 49,
   "metadata": {},
   "outputs": [
    {
     "output_type": "execute_result",
     "data": {
      "text/plain": "[<p class=\"description\">Lenovo V510 Black, 14\" HD, Core i3-6006U, 4GB, 128GB SSD, Windows 10 Home</p>,\n <p class=\"pull-right\">8 reviews</p>,\n <p data-rating=\"3\">\n <span class=\"glyphicon glyphicon-star\"></span>\n <span class=\"glyphicon glyphicon-star\"></span>\n <span class=\"glyphicon glyphicon-star\"></span>\n </p>]"
     },
     "metadata": {},
     "execution_count": 49
    }
   ],
   "source": [
    "tags_div[0].select('p')"
   ]
  },
  {
   "cell_type": "code",
   "execution_count": 50,
   "metadata": {},
   "outputs": [
    {
     "output_type": "execute_result",
     "data": {
      "text/plain": "<p class=\"description\">Lenovo V510 Black, 14\" HD, Core i3-6006U, 4GB, 128GB SSD, Windows 10 Home</p>"
     },
     "metadata": {},
     "execution_count": 50
    }
   ],
   "source": [
    "tags_div[0].select_one('p')"
   ]
  },
  {
   "cell_type": "code",
   "execution_count": 51,
   "metadata": {},
   "outputs": [
    {
     "output_type": "execute_result",
     "data": {
      "text/plain": "[<p class=\"description\">Lenovo V510 Black, 14\" HD, Core i3-6006U, 4GB, 128GB SSD, Windows 10 Home</p>]"
     },
     "metadata": {},
     "execution_count": 51
    }
   ],
   "source": [
    "tags_div[0].select('p.description')"
   ]
  },
  {
   "cell_type": "code",
   "execution_count": 53,
   "metadata": {},
   "outputs": [
    {
     "output_type": "execute_result",
     "data": {
      "text/plain": "'Lenovo V510 Black, 14\" HD, Core i3-6006U, 4GB, 128GB SSD, Windows 10 Home'"
     },
     "metadata": {},
     "execution_count": 53
    }
   ],
   "source": [
    "tags_div[0].select_one('p.description').text"
   ]
  },
  {
   "cell_type": "code",
   "execution_count": 54,
   "metadata": {},
   "outputs": [
    {
     "output_type": "execute_result",
     "data": {
      "text/plain": "[<div class=\"ratings\">\n <p class=\"pull-right\">8 reviews</p>\n <p data-rating=\"3\">\n <span class=\"glyphicon glyphicon-star\"></span>\n <span class=\"glyphicon glyphicon-star\"></span>\n <span class=\"glyphicon glyphicon-star\"></span>\n </p>\n </div>]"
     },
     "metadata": {},
     "execution_count": 54
    }
   ],
   "source": [
    "tags_div[0].select('div.ratings')"
   ]
  },
  {
   "cell_type": "code",
   "execution_count": 55,
   "metadata": {},
   "outputs": [
    {
     "output_type": "execute_result",
     "data": {
      "text/plain": "[<p data-rating=\"3\">\n <span class=\"glyphicon glyphicon-star\"></span>\n <span class=\"glyphicon glyphicon-star\"></span>\n <span class=\"glyphicon glyphicon-star\"></span>\n </p>]"
     },
     "metadata": {},
     "execution_count": 55
    }
   ],
   "source": [
    "tags_div[0].select('p[data-rating]')"
   ]
  },
  {
   "cell_type": "code",
   "execution_count": 56,
   "metadata": {},
   "outputs": [
    {
     "output_type": "execute_result",
     "data": {
      "text/plain": "'3'"
     },
     "metadata": {},
     "execution_count": 56
    }
   ],
   "source": [
    "tags_div[0].select_one('p[data-rating]').get('data-rating')"
   ]
  },
  {
   "cell_type": "code",
   "execution_count": 60,
   "metadata": {},
   "outputs": [],
   "source": [
    "product_data = {'price':[],'description':[],'rating':[]}\n",
    "\n",
    "for tag in tags_div:\n",
    "    product_data['price'].append(tag.select_one('h4').text)\n",
    "    product_data['description'].append(tag.select_one('p.description').text)\n",
    "    product_data['rating'].append(tag.select_one('p[data-rating]').get('data-rating'))"
   ]
  },
  {
   "cell_type": "code",
   "execution_count": 62,
   "metadata": {},
   "outputs": [
    {
     "output_type": "execute_result",
     "data": {
      "text/plain": "{'price': ['$484.23', '$1170.10', '$1179.00'],\n 'description': ['Lenovo V510 Black, 14\" HD, Core i3-6006U, 4GB, 128GB SSD, Windows 10 Home',\n  'Acer TravelMate P645-S-511A Black, 14\" FHD IPS, Core i5-5200U, 8GB, 256GB SSD, 3G, Windows 10 Pro',\n  'MSI GS63 7RD Stealth, 15.6\" FHD IPS, Core i7-7700HQ, 8GB, 256GB SSD, GeForce GTX 1050 2GB, DOS + Windows 10 Home'],\n 'rating': ['3', '1', '1']}"
     },
     "metadata": {},
     "execution_count": 62
    }
   ],
   "source": [
    "product_data"
   ]
  },
  {
   "cell_type": "code",
   "execution_count": 63,
   "metadata": {},
   "outputs": [],
   "source": [
    "import json\n",
    "\n",
    "with open('product_data.json','w') as f:\n",
    "    json.dump(product_data,f,indent=2)"
   ]
  },
  {
   "cell_type": "code",
   "execution_count": 65,
   "metadata": {
    "tags": []
   },
   "outputs": [],
   "source": [
    "# !cat product_data.json   --> only for jupyter notebook."
   ]
  },
  {
   "cell_type": "code",
   "execution_count": null,
   "metadata": {},
   "outputs": [],
   "source": []
  }
 ]
}