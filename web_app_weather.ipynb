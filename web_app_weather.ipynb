{
 "metadata": {
  "language_info": {
   "codemirror_mode": {
    "name": "ipython",
    "version": 3
   },
   "file_extension": ".py",
   "mimetype": "text/x-python",
   "name": "python",
   "nbconvert_exporter": "python",
   "pygments_lexer": "ipython3",
   "version": "3.8.3-final"
  },
  "orig_nbformat": 2,
  "kernelspec": {
   "name": "python_defaultSpec_1598498431873",
   "display_name": "Python 3.8.3 64-bit ('base': conda)"
  }
 },
 "nbformat": 4,
 "nbformat_minor": 2,
 "cells": [
  {
   "cell_type": "code",
   "execution_count": 12,
   "metadata": {},
   "outputs": [],
   "source": [
    "import requests"
   ]
  },
  {
   "cell_type": "code",
   "execution_count": 13,
   "metadata": {},
   "outputs": [],
   "source": [
    "#Automating using functions!\n",
    "\n",
    "def fetch_ip_address():\n",
    "    \"\"\"Return a string of my IP Address\"\"\"\n",
    "    response = requests.get('https://api.ipify.org')\n",
    "    return response.text"
   ]
  },
  {
   "cell_type": "code",
   "execution_count": 14,
   "metadata": {},
   "outputs": [],
   "source": [
    "def locate_ip_address(ip_address):\n",
    "    \"\"\"Return lat & lon based data for a given IP address\"\"\"\n",
    "    response = requests.get(f'http://ip-api.com/json/{ip_address}')\n",
    "    data = response.json()\n",
    "    keys = ('lat','lon','city','region','country')\n",
    "    return {key : data[key] for key in keys}"
   ]
  },
  {
   "cell_type": "code",
   "execution_count": 15,
   "metadata": {},
   "outputs": [],
   "source": [
    "def get_temp(lat,lon):\n",
    "    \"\"\"Return current temperature for a location given the latitude & longitude.\"\"\"\n",
    "\n",
    "    url_base = 'https://api.met.no/weatherapi/locationforecast/2.0/compact'\n",
    "    response = requests.get(url_base,params={'lat': lat, 'lon': lon})\n",
    "    data =response.json()\n",
    "    temperature = data['properties']['timeseries'][0]['data']['instant']['details']['air_temperature']\n",
    "    \n",
    "    return temperature "
   ]
  },
  {
   "cell_type": "code",
   "execution_count": 16,
   "metadata": {},
   "outputs": [],
   "source": [
    "def locate_ip_address_cplx(ip_address):\n",
    "    \"\"\"Return lat & lon based data for a given IP address\"\"\"\n",
    "    response = requests.get(f'http://ip-api.com/json/{ip_address}')\n",
    "    return response.json()"
   ]
  },
  {
   "cell_type": "code",
   "execution_count": 17,
   "metadata": {},
   "outputs": [],
   "source": [
    "def conver_to_fahr(temp):\n",
    "    return 9/5*temp+32"
   ]
  },
  {
   "cell_type": "code",
   "execution_count": 20,
   "metadata": {},
   "outputs": [],
   "source": [
    "def main():\n",
    "    ip_address  = fetch_ip_address()\n",
    "    geo_data = locate_ip_address(ip_address)\n",
    "    temp_C = get_temp(geo_data['lat'],geo_data['lon'])\n",
    "    temp_F = conver_to_fahr(temp_C)\n",
    "    return f\"It's {temp_F} deg F in {geo_data['city']},{geo_data['region']}, {geo_data['country']}\""
   ]
  },
  {
   "cell_type": "code",
   "execution_count": 21,
   "metadata": {},
   "outputs": [
    {
     "output_type": "execute_result",
     "data": {
      "text/plain": "\"It's 78.62 deg F in Hyderabad,TG, India\""
     },
     "metadata": {},
     "execution_count": 21
    }
   ],
   "source": [
    "main()"
   ]
  },
  {
   "cell_type": "markdown",
   "metadata": {},
   "source": [
    "### Breaking down the above function into individual lines for simplification"
   ]
  },
  {
   "cell_type": "code",
   "execution_count": null,
   "metadata": {},
   "outputs": [],
   "source": [
    "response = requests.get('https://api.ipify.org')"
   ]
  },
  {
   "cell_type": "code",
   "execution_count": null,
   "metadata": {},
   "outputs": [],
   "source": [
    "response.content\n",
    "\n"
   ]
  },
  {
   "cell_type": "code",
   "execution_count": null,
   "metadata": {},
   "outputs": [],
   "source": [
    "# response = requests.get('http://ip-api.com/json/27.6.141.80')"
   ]
  },
  {
   "cell_type": "code",
   "execution_count": null,
   "metadata": {},
   "outputs": [],
   "source": [
    "# response.json()\n",
    "\n"
   ]
  },
  {
   "cell_type": "code",
   "execution_count": null,
   "metadata": {},
   "outputs": [],
   "source": [
    "# url_base = 'https://api.met.no/weatherapi/locationforecast/2.0/compact'\n",
    "# response = requests.get(url_base,params={'lat':17.3841, 'lon':78.4564})\n",
    "# data =response.json()\n",
    "# data"
   ]
  },
  {
   "cell_type": "code",
   "execution_count": null,
   "metadata": {},
   "outputs": [],
   "source": [
    "# weather_details = data['properties']['timeseries'][0]\n",
    "# weather_details"
   ]
  },
  {
   "cell_type": "code",
   "execution_count": null,
   "metadata": {},
   "outputs": [],
   "source": [
    "# temp = weather_details['data']['instant']['details']['air_temperature']\n",
    "# temp"
   ]
  },
  {
   "cell_type": "code",
   "execution_count": null,
   "metadata": {
    "tags": []
   },
   "outputs": [],
   "source": [
    "# print(response.url)\n",
    "# print(temp)"
   ]
  },
  {
   "cell_type": "code",
   "execution_count": null,
   "metadata": {},
   "outputs": [],
   "source": [
    "# locate_ip_address('27.6.141.80')"
   ]
  },
  {
   "cell_type": "code",
   "execution_count": null,
   "metadata": {},
   "outputs": [],
   "source": [
    "# fetch_ip_address()"
   ]
  },
  {
   "cell_type": "code",
   "execution_count": null,
   "metadata": {},
   "outputs": [],
   "source": [
    "# locate_ip_address('27.6.141.80')"
   ]
  },
  {
   "cell_type": "code",
   "execution_count": null,
   "metadata": {},
   "outputs": [],
   "source": []
  }
 ]
}