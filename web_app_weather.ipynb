{
 "metadata": {
  "language_info": {
   "codemirror_mode": {
    "name": "ipython",
    "version": 3
   },
   "file_extension": ".py",
   "mimetype": "text/x-python",
   "name": "python",
   "nbconvert_exporter": "python",
   "pygments_lexer": "ipython3",
   "version": "3.8.3-final"
  },
  "orig_nbformat": 2,
  "kernelspec": {
   "name": "python_defaultSpec_1598185574238",
   "display_name": "Python 3.8.3 64-bit ('base': conda)"
  }
 },
 "nbformat": 4,
 "nbformat_minor": 2,
 "cells": [
  {
   "cell_type": "code",
   "execution_count": 1,
   "metadata": {},
   "outputs": [],
   "source": [
    "import requests"
   ]
  },
  {
   "cell_type": "code",
   "execution_count": 2,
   "metadata": {},
   "outputs": [],
   "source": [
    "response = requests.get('https://api.ipify.org')"
   ]
  },
  {
   "cell_type": "code",
   "execution_count": 28,
   "metadata": {},
   "outputs": [],
   "source": [
    "# response.content\n",
    "\n",
    "#Redacting the above code to hide IP_address"
   ]
  },
  {
   "cell_type": "code",
   "execution_count": 10,
   "metadata": {},
   "outputs": [],
   "source": [
    "response = requests.get('http://ip-api.com/json/27.6.141.80')"
   ]
  },
  {
   "cell_type": "code",
   "execution_count": 29,
   "metadata": {},
   "outputs": [],
   "source": [
    "# response.json()\n",
    "\n",
    "#Redacting the above code to hide location details!"
   ]
  },
  {
   "cell_type": "code",
   "execution_count": 12,
   "metadata": {},
   "outputs": [
    {
     "output_type": "execute_result",
     "data": {
      "text/plain": "ty': 59.0,\n       'wind_from_direction': 274.3,\n       'wind_speed': 4.7}},\n     'next_12_hours': {'summary': {'symbol_code': 'cloudy'}},\n     'next_1_hours': {'summary': {'symbol_code': 'partlycloudy_day'},\n      'details': {'precipitation_amount': 0.0}},\n     'next_6_hours': {'summary': {'symbol_code': 'partlycloudy_day'},\n      'details': {'precipitation_amount': 0.0}}}},\n   {'time': '2020-08-25T10:00:00Z',\n    'data': {'instant': {'details': {'air_pressure_at_sea_level': 1006.6,\n       'air_temperature': 29.5,\n       'cloud_area_fraction': 85.2,\n       'relative_humidity': 59.8,\n       'wind_from_direction': 274.9,\n       'wind_speed': 5.1}},\n     'next_12_hours': {'summary': {'symbol_code': 'cloudy'}},\n     'next_1_hours': {'summary': {'symbol_code': 'partlycloudy_day'},\n      'details': {'precipitation_amount': 0.0}},\n     'next_6_hours': {'summary': {'symbol_code': 'partlycloudy_day'},\n      'details': {'precipitation_amount': 0.0}}}},\n   {'time': '2020-08-25T11:00:00Z',\n    'data': {'instant': {'details': {'air_pressure_at_sea_level': 1006.5,\n       'air_temperature': 28.9,\n       'cloud_area_fraction': 72.7,\n       'relative_humidity': 62.4,\n       'wind_from_direction': 276.9,\n       'wind_speed': 4.5}},\n     'next_12_hours': {'summary': {'symbol_code': 'cloudy'}},\n     'next_1_hours': {'summary': {'symbol_code': 'cloudy'},\n      'details': {'precipitation_amount': 0.0}},\n     'next_6_hours': {'summary': {'symbol_code': 'partlycloudy_night'},\n      'details': {'precipitation_amount': 0.0}}}},\n   {'time': '2020-08-25T12:00:00Z',\n    'data': {'instant': {'details': {'air_pressure_at_sea_level': 1006.8,\n       'air_temperature': 28.1,\n       'cloud_area_fraction': 100.0,\n       'relative_humidity': 67.8,\n       'wind_from_direction': 282.1,\n       'wind_speed': 3.1}},\n     'next_12_hours': {'summary': {'symbol_code': 'cloudy'}},\n     'next_1_hours': {'summary': {'symbol_code': 'partlycloudy_day'},\n      'details': {'precipitation_amount': 0.0}},\n     'next_6_hours': {'summary': {'symbol_code': 'partlycloudy_night'},\n      'details': {'precipitation_amount': 0.0}}}},\n   {'time': '2020-08-25T13:00:00Z',\n    'data': {'instant': {'details': {'air_pressure_at_sea_level': 1007.6,\n       'air_temperature': 26.8,\n       'cloud_area_fraction': 100.0,\n       'relative_humidity': 72.4,\n       'wind_from_direction': 285.4,\n       'wind_speed': 2.6}},\n     'next_1_hours': {'summary': {'symbol_code': 'partlycloudy_night'},\n      'details': {'precipitation_amount': 0.0}},\n     'next_6_hours': {'summary': {'symbol_code': 'partlycloudy_night'},\n      'details': {'precipitation_amount': 0.0}}}},\n   {'time': '2020-08-25T14:00:00Z',\n    'data': {'instant': {'details': {'air_pressure_at_sea_level': 1008.7,\n       'air_temperature': 25.6,\n       'cloud_area_fraction': 100.0,\n       'relative_humidity': 78.3,\n       'wind_from_direction': 266.7,\n       'wind_speed': 2.0}},\n     'next_1_hours': {'summary': {'symbol_code': 'partlycloudy_night'},\n      'details': {'precipitation_amount': 0.0}},\n     'next_6_hours': {'summary': {'symbol_code': 'partlycloudy_night'},\n      'details': {'precipitation_amount': 0.0}}}},\n   {'time': '2020-08-25T15:00:00Z',\n    'data': {'instant': {'details': {'air_pressure_at_sea_level': 1009.8,\n       'air_temperature': 24.9,\n       'cloud_area_fraction': 100.0,\n       'relative_humidity': 82.2,\n       'wind_from_direction': 247.3,\n       'wind_speed': 1.9}},\n     'next_1_hours': {'summary': {'symbol_code': 'partlycloudy_night'},\n      'details': {'precipitation_amount': 0.0}},\n     'next_6_hours': {'summary': {'symbol_code': 'partlycloudy_night'},\n      'details': {'precipitation_amount': 0.0}}}},\n   {'time': '2020-08-25T16:00:00Z',\n    'data': {'instant': {'details': {'air_pressure_at_sea_level': 1010.5,\n       'air_temperature': 24.7,\n       'cloud_area_fraction': 100.0,\n       'relative_humidity': 82.7,\n       'wind_from_direction': 255.0,\n       'wind_speed': 2.5}},\n     'next_1_hours': {'summary': {'symbol_code': 'partlycloudy_night'},\n      'details': {'precipitation_amount': 0.0}},\n     'next_6_hours': {'summary': {'symbol_code': 'partlycloudy_night'},\n      'details': {'precipitation_amount': 0.0}}}},\n   {'time': '2020-08-25T17:00:00Z',\n    'data': {'instant': {'details': {'air_pressure_at_sea_level': 1010.6,\n       'air_temperature': 24.6,\n       'cloud_area_fraction': 100.0,\n       'relative_humidity': 82.1,\n       'wind_from_direction': 263.0,\n       'wind_speed': 2.6}},\n     'next_1_hours': {'summary': {'symbol_code': 'partlycloudy_night'},\n      'details': {'precipitation_amount': 0.0}},\n     'next_6_hours': {'summary': {'symbol_code': 'partlycloudy_night'},\n      'details': {'precipitation_amount': 0.0}}}},\n   {'time': '2020-08-25T18:00:00Z',\n    'data': {'instant': {'details': {'air_pressure_at_sea_level': 1010.1,\n       'air_temperature': 24.3,\n       'cloud_area_fraction': 100.0,\n       'relative_humidity': 83.3,\n       'wind_from_direction': 269.4,\n       'wind_speed': 2.9}},\n     'next_12_hours': {'summary': {'symbol_code': 'cloudy'}},\n     'next_1_hours': {'summary': {'symbol_code': 'partlycloudy_night'},\n      'details': {'precipitation_amount': 0.0}},\n     'next_6_hours': {'summary': {'symbol_code': 'partlycloudy_night'},\n      'details': {'precipitation_amount': 0.0}}}},\n   {'time': '2020-08-25T19:00:00Z',\n    'data': {'instant': {'details': {'air_pressure_at_sea_level': 1009.4,\n       'air_temperature': 24.0,\n       'cloud_area_fraction': 100.0,\n       'relative_humidity': 84.5,\n       'wind_from_direction': 271.9,\n       'wind_speed': 3.0}},\n     'next_1_hours': {'summary': {'symbol_code': 'partlycloudy_night'},\n      'details': {'precipitation_amount': 0.0}}}},\n   {'time': '2020-08-25T20:00:00Z',\n    'data': {'instant': {'details': {'air_pressure_at_sea_level': 1008.7,\n       'air_temperature': 23.9,\n       'cloud_area_fraction': 100.0,\n       'relative_humidity': 85.2,\n       'wind_from_direction': 269.8,\n       'wind_speed': 3.1}},\n     'next_1_hours': {'summary': {'symbol_code': 'partlycloudy_night'},\n      'details': {'precipitation_amount': 0.0}}}},\n   {'time': '2020-08-25T21:00:00Z',\n    'data': {'instant': {'details': {'air_pressure_at_sea_level': 1008.2,\n       'air_temperature': 23.6,\n       'cloud_area_fraction': 100.0,\n       'relative_humidity': 86.8,\n       'wind_from_direction': 269.2,\n       'wind_speed': 3.2}},\n     'next_1_hours': {'summary': {'symbol_code': 'partlycloudy_night'},\n      'details': {'precipitation_amount': 0.0}}}},\n   {'time': '2020-08-25T22:00:00Z',\n    'data': {'instant': {'details': {'air_pressure_at_sea_level': 1008.0,\n       'air_temperature': 23.3,\n       'cloud_area_fraction': 100.0,\n       'relative_humidity': 88.4,\n       'wind_from_direction': 273.5,\n       'wind_speed': 3.4}},\n     'next_1_hours': {'summary': {'symbol_code': 'partlycloudy_night'},\n      'details': {'precipitation_amount': 0.0}}}},\n   {'time': '2020-08-25T23:00:00Z',\n    'data': {'instant': {'details': {'air_pressure_at_sea_level': 1008.4,\n       'air_temperature': 23.1,\n       'cloud_area_fraction': 100.0,\n       'relative_humidity': 90.3,\n       'wind_from_direction': 268.9,\n       'wind_speed': 3.5}},\n     'next_1_hours': {'summary': {'symbol_code': 'partlycloudy_night'},\n      'details': {'precipitation_amount': 0.0}}}},\n   {'time': '2020-08-26T00:00:00Z',\n    'data': {'instant': {'details': {'air_pressure_at_sea_level': 1008.9,\n       'air_temperature': 22.8,\n       'cloud_area_fraction': 100.0,\n       'relative_humidity': 92.0,\n       'wind_from_direction': 269.1,\n       'wind_speed': 3.7}},\n     'next_12_hours': {'summary': {'symbol_code': 'cloudy'}},\n     'next_6_hours': {'summary': {'symbol_code': 'partlycloudy_day'},\n      'details': {'precipitation_amount': 0.0}}}},\n   {'time': '2020-08-26T06:00:00Z',\n    'data': {'instant': {'details': {'air_pressure_at_sea_level': 1010.4,\n       'air_temperature': 28.5,\n       'cloud_area_fraction': 100.0,\n       'relative_humidity': 65.1,\n       'wind_from_direction': 287.5,\n       'wind_speed': 4.3}},\n     'next_12_hours': {'summary': {'symbol_code': 'cloudy'}},\n     'next_6_hours': {'summary': {'symbol_code': 'partlycloudy_day'},\n      'details': {'precipitation_amount': 0.1}}}},\n   {'time': '2020-08-26T12:00:00Z',\n    'data': {'instant': {'details': {'air_pressure_at_sea_level': 1006.2,\n       'air_temperature': 28.3,\n       'cloud_area_fraction': 100.0,\n       'relative_humidity': 65.5,\n       'wind_from_direction': 275.6,\n       'wind_speed': 2.4}},\n     'next_12_hours': {'summary': {'symbol_code': 'cloudy'}},\n     'next_6_hours': {'summary': {'symbol_code': 'partlycloudy_night'},\n      'details': {'precipitation_amount': 0.0}}}},\n   {'time': '2020-08-26T18:00:00Z',\n    'data': {'instant': {'details': {'air_pressure_at_sea_level': 1009.2,\n       'air_temperature': 24.0,\n       'cloud_area_fraction': 100.0,\n       'relative_humidity': 83.7,\n       'wind_from_direction': 279.0,\n       'wind_speed': 2.8}},\n     'next_12_hours': {'summary': {'symbol_code': 'cloudy'}},\n     'next_6_hours': {'summary': {'symbol_code': 'partlycloudy_night'},\n      'details': {'precipitation_amount': 0.0}}}},\n   {'time': '2020-08-27T00:00:00Z',\n    'data': {'instant': {'details': {'air_pressure_at_sea_level': 1007.9,\n       'air_temperature': 22.8,\n       'cloud_area_fraction': 100.0,\n       'relative_humidity': 89.9,\n       'wind_from_direction': 269.1,\n       'wind_speed': 3.4}},\n     'next_12_hours': {'summary': {'symbol_code': 'cloudy'}},\n     'next_6_hours': {'summary': {'symbol_code': 'partlycloudy_day'},\n      'details': {'precipitation_amount': 0.1}}}},\n   {'time': '2020-08-27T06:00:00Z',\n    'data': {'instant': {'details': {'air_pressure_at_sea_level': 1008.6,\n       'air_temperature': 28.8,\n       'cloud_area_fraction': 100.0,\n       'relative_humidity': 67.1,\n       'wind_from_direction': 275.5,\n       'wind_speed': 4.5}},\n     'next_12_hours': {'summary': {'symbol_code': 'cloudy'}},\n     'next_6_hours': {'summary': {'symbol_code': 'cloudy'},\n      'details': {'precipitation_amount': 0.1}}}},\n   {'time': '2020-08-27T12:00:00Z',\n    'data': {'instant': {'details': {'air_pressure_at_sea_level': 1004.6,\n       'air_temperature': 28.1,\n       'cloud_area_fraction': 100.0,\n       'relative_humidity': 65.6,\n       'wind_from_direction': 267.1,\n       'wind_speed': 2.9}},\n     'next_12_hours': {'summary': {'symbol_code': 'cloudy'}},\n     'next_6_hours': {'summary': {'symbol_code': 'partlycloudy_night'},\n      'details': {'precipitation_amount': 0.0}}}},\n   {'time': '2020-08-27T18:00:00Z',\n    'data': {'instant': {'details': {'air_pressure_at_sea_level': 1007.8,\n       'air_temperature': 24.5,\n       'cloud_area_fraction': 100.0,\n       'relative_humidity': 81.0,\n       'wind_from_direction': 263.5,\n       'wind_speed': 3.6}},\n     'next_12_hours': {'summary': {'symbol_code': 'cloudy'}},\n     'next_6_hours': {'summary': {'symbol_code': 'partlycloudy_night'},\n      'details': {'precipitation_amount': 0.0}}}},\n   {'time': '2020-08-28T00:00:00Z',\n    'data': {'instant': {'details': {'air_pressure_at_sea_level': 1007.0,\n       'air_temperature': 22.7,\n       'cloud_area_fraction': 100.0,\n       'relative_humidity': 85.9,\n       'wind_from_direction': 265.6,\n       'wind_speed': 4.2}},\n     'next_12_hours': {'summary': {'symbol_code': 'cloudy'}},\n     'next_6_hours': {'summary': {'symbol_code': 'cloudy'},\n      'details': {'precipitation_amount': 0.0}}}},\n   {'time': '2020-08-28T06:00:00Z',\n    'data': {'instant': {'details': {'air_pressure_at_sea_level': 1007.6,\n       'air_temperature': 28.0,\n       'cloud_area_fraction': 100.0,\n       'relative_humidity': 60.8,\n       'wind_from_direction': 268.1,\n       'wind_speed': 6.1}},\n     'next_12_hours': {'summary': {'symbol_code': 'cloudy'}},\n     'next_6_hours': {'summary': {'symbol_code': 'cloudy'},\n      'details': {'precipitation_amount': 0.0}}}},\n   {'time': '2020-08-28T12:00:00Z',\n    'data': {'instant': {'details': {'air_pressure_at_sea_level': 1004.3,\n       'air_temperature': 27.5,\n       'cloud_area_fraction': 100.0,\n       'relative_humidity': 68.7,\n       'wind_from_direction': 254.1,\n       'wind_speed': 3.4}},\n     'next_12_hours': {'summary': {'symbol_code': 'cloudy'}},\n     'next_6_hours': {'summary': {'symbol_code': 'cloudy'},\n      'details': {'precipitation_amount': 0.0}}}},\n   {'time': '2020-08-28T18:00:00Z',\n    'data': {'instant': {'details': {'air_pressure_at_sea_level': 1007.3,\n       'air_temperature': 24.4,\n       'cloud_area_fraction': 100.0,\n       'relative_humidity': 83.1,\n       'wind_from_direction': 251.4,\n       'wind_speed': 4.1}},\n     'next_12_hours': {'summary': {'symbol_code': 'cloudy'}},\n     'next_6_hours': {'summary': {'symbol_code': 'partlycloudy_night'},\n      'details': {'precipitation_amount': 0.0}}}},\n   {'time': '2020-08-29T00:00:00Z',\n    'data': {'instant': {'details': {'air_pressure_at_sea_level': 1006.5,\n       'air_temperature': 22.7,\n       'cloud_area_fraction': 100.0,\n       'relative_humidity': 85.2,\n       'wind_from_direction': 253.3,\n       'wind_speed': 4.8}},\n     'next_12_hours': {'summary': {'symbol_code': 'lightrain'}},\n     'next_6_hours': {'summary': {'symbol_code': 'cloudy'},\n      'details': {'precipitation_amount': 0.1}}}},\n   {'time': '2020-08-29T06:00:00Z',\n    'data': {'instant': {'details': {'air_pressure_at_sea_level': 1007.4,\n       'air_temperature': 27.7,\n       'cloud_area_fraction': 100.0,\n       'relative_humidity': 65.4,\n       'wind_from_direction': 264.0,\n       'wind_speed': 6.1}},\n     'next_12_hours': {'summary': {'symbol_code': 'rainshowers_day'}},\n     'next_6_hours': {'summary': {'symbol_code': 'rain'},\n      'details': {'precipitation_amount': 1.5}}}},\n   {'time': '2020-08-29T12:00:00Z',\n    'data': {'instant': {'details': {'air_pressure_at_sea_level': 1004.3,\n       'air_temperature': 26.5,\n       'cloud_area_fraction': 83.6,\n       'relative_humidity': 78.1,\n       'wind_from_direction': 264.9,\n       'wind_speed': 3.6}},\n     'next_12_hours': {'summary': {'symbol_code': 'lightrainshowers_night'}},\n     'next_6_hours': {'summary': {'symbol_code': 'rainshowers_night'},\n      'details': {'precipitation_amount': 1.1}}}},\n   {'time': '2020-08-29T18:00:00Z',\n    'data': {'instant': {'details': {'air_pressure_at_sea_level': 1007.7,\n       'air_temperature': 23.2,\n       'cloud_area_fraction': 68.8,\n       'relative_humidity': 93.0,\n       'wind_from_direction': 257.7,\n       'wind_speed': 3.5}},\n     'next_12_hours': {'summary': {'symbol_code': 'partlycloudy_night'}},\n     'next_6_hours': {'summary': {'symbol_code': 'partlycloudy_night'},\n      'details': {'precipitation_amount': 0.0}}}},\n   {'time': '2020-08-30T00:00:00Z',\n    'data': {'instant': {'details': {'air_pressure_at_sea_level': 1007.0,\n       'air_temperature': 22.4,\n       'cloud_area_fraction': 37.5,\n       'relative_humidity': 92.3,\n       'wind_from_direction': 258.5,\n       'wind_speed': 4.0}},\n     'next_12_hours': {'summary': {'symbol_code': 'cloudy'}},\n     'next_6_hours': {'summary': {'symbol_code': 'partlycloudy_day'},\n      'details': {'precipitation_amount': 0.0}}}},\n   {'time': '2020-08-30T06:00:00Z',\n    'data': {'instant': {'details': {'air_pressure_at_sea_level': 1007.6,\n       'air_temperature': 28.9,\n       'cloud_area_fraction': 96.1,\n       'relative_humidity': 63.0,\n       'wind_from_direction': 269.3,\n       'wind_speed': 4.7}},\n     'next_12_hours': {'summary': {'symbol_code': 'partlycloudy_day'}},\n     'next_6_hours': {'summary': {'symbol_code': 'cloudy'},\n      'details': {'precipitation_amount': 0.3}}}},\n   {'time': '2020-08-30T12:00:00Z',\n    'data': {'instant': {'details': {'air_pressure_at_sea_level': 1004.5,\n       'air_temperature': 27.6,\n       'cloud_area_fraction': 89.1,\n       'relative_humidity': 71.5,\n       'wind_from_direction': 265.2,\n       'wind_speed': 3.1}},\n     'next_12_hours': {'summary': {'symbol_code': 'partlycloudy_night'}},\n     'next_6_hours': {'summary': {'symbol_code': 'partlycloudy_night'},\n      'details': {'precipitation_amount': 0.0}}}},\n   {'time': '2020-08-30T18:00:00Z',\n    'data': {'instant': {'details': {'air_pressure_at_sea_level': 1008.7,\n       'air_temperature': 24.1,\n       'cloud_area_fraction': 64.8,\n       'relative_humidity': 89.2,\n       'wind_from_direction': 247.8,\n       'wind_speed': 3.3}},\n     'next_12_hours': {'summary': {'symbol_code': 'partlycloudy_night'}},\n     'next_6_hours': {'summary': {'symbol_code': 'partlycloudy_night'},\n      'details': {'precipitation_amount': 0.0}}}},\n   {'time': '2020-08-31T00:00:00Z',\n    'data': {'instant': {'details': {'air_pressure_at_sea_level': 1007.8,\n       'air_temperature': 22.7,\n       'cloud_area_fraction': 60.2,\n       'relative_humidity': 93.4,\n       'wind_from_direction': 265.3,\n       'wind_speed': 3.1}},\n     'next_12_hours': {'summary': {'symbol_code': 'cloudy'}},\n     'next_6_hours': {'summary': {'symbol_code': 'partlycloudy_day'},\n      'details': {'precipitation_amount': 0.0}}}},\n   {'time': '2020-08-31T06:00:00Z',\n    'data': {'instant': {'details': {'air_pressure_at_sea_level': 1008.2,\n       'air_temperature': 29.4,\n       'cloud_area_fraction': 95.3,\n       'relative_humidity': 63.8,\n       'wind_from_direction': 285.0,\n       'wind_speed': 3.2}},\n     'next_12_hours': {'summary': {'symbol_code': 'cloudy'}},\n     'next_6_hours': {'summary': {'symbol_code': 'cloudy'},\n      'details': {'precipitation_amount': 0.1}}}},\n   {'time': '2020-08-31T12:00:00Z',\n    'data': {'instant': {'details': {'air_pressure_at_sea_level': 1005.0,\n       'air_temperature': 28.9,\n       'cloud_area_fraction': 97.7,\n       'relative_humidity': 66.7,\n       'wind_from_direction': 268.5,\n       'wind_speed': 2.0}},\n     'next_12_hours': {'summary': {'symbol_code': 'partlycloudy_night'}},\n     'next_6_hours': {'summary': {'symbol_code': 'partlycloudy_night'},\n      'details': {'precipitation_amount': 0.0}}}},\n   {'time': '2020-08-31T18:00:00Z',\n    'data': {'instant': {'details': {'air_pressure_at_sea_level': 1008.7,\n       'air_temperature': 23.7,\n       'cloud_area_fraction': 93.8,\n       'relative_humidity': 87.4,\n       'wind_from_direction': 275.0,\n       'wind_speed': 1.7}},\n     'next_12_hours': {'summary': {'symbol_code': 'partlycloudy_night'}},\n     'next_6_hours': {'summary': {'symbol_code': 'partlycloudy_night'},\n      'details': {'precipitation_amount': 0.0}}}},\n   {'time': '2020-09-01T00:00:00Z',\n    'data': {'instant': {'details': {'air_pressure_at_sea_level': 1007.5,\n       'air_temperature': 22.0,\n       'cloud_area_fraction': 4.7,\n       'relative_humidity': 91.6,\n       'wind_from_direction': 270.5,\n       'wind_speed': 2.0}},\n     'next_12_hours': {'summary': {'symbol_code': 'cloudy'}},\n     'next_6_hours': {'summary': {'symbol_code': 'partlycloudy_day'},\n      'details': {'precipitation_amount': 0.1}}}},\n   {'time': '2020-09-01T06:00:00Z',\n    'data': {'instant': {'details': {'air_pressure_at_sea_level': 1008.0,\n       'air_temperature': 29.3,\n       'cloud_area_fraction': 96.9,\n       'relative_humidity': 64.2,\n       'wind_from_direction': 306.8,\n       'wind_speed': 3.6}},\n     'next_12_hours': {'summary': {'symbol_code': 'cloudy'}},\n     'next_6_hours': {'summary': {'symbol_code': 'partlycloudy_day'},\n      'details': {'precipitation_amount': 0.1}}}},\n   {'time': '2020-09-01T12:00:00Z',\n    'data': {'instant': {'details': {'air_pressure_at_sea_level': 1004.8,\n       'air_temperature': 28.8,\n       'cloud_area_fraction': 100.0,\n       'relative_humidity': 67.5,\n       'wind_from_direction': 277.9,\n       'wind_speed': 1.8}},\n     'next_6_hours': {'summary': {'symbol_code': 'partlycloudy_night'},\n      'details': {'precipitation_amount': 0.0}}}},\n   {'time': '2020-09-01T18:00:00Z',\n    'data': {'instant': {'details': {'air_pressure_at_sea_level': 1008.1,\n       'air_temperature': 25.0,\n       'cloud_area_fraction': 98.4,\n       'relative_humidity': 84.3,\n       'wind_from_direction': 254.2,\n       'wind_speed': 2.2}}}}]}}"
     },
     "metadata": {},
     "execution_count": 12
    }
   ],
   "source": [
    "url_base = 'https://api.met.no/weatherapi/locationforecast/2.0/compact'\n",
    "response = requests.get(url_base,params={'lat':17.3841, 'lon':78.4564})\n",
    "data =response.json()\n",
    "data"
   ]
  },
  {
   "cell_type": "code",
   "execution_count": 16,
   "metadata": {},
   "outputs": [
    {
     "output_type": "execute_result",
     "data": {
      "text/plain": "{'time': '2020-08-23T12:00:00Z',\n 'data': {'instant': {'details': {'air_pressure_at_sea_level': 1005.6,\n    'air_temperature': 27.1,\n    'cloud_area_fraction': 99.2,\n    'relative_humidity': 77.7,\n    'wind_from_direction': 240.2,\n    'wind_speed': 2.7}},\n  'next_12_hours': {'summary': {'symbol_code': 'cloudy'}},\n  'next_1_hours': {'summary': {'symbol_code': 'cloudy'},\n   'details': {'precipitation_amount': 0.0}},\n  'next_6_hours': {'summary': {'symbol_code': 'cloudy'},\n   'details': {'precipitation_amount': 0.0}}}}"
     },
     "metadata": {},
     "execution_count": 16
    }
   ],
   "source": [
    "weather_details = data['properties']['timeseries'][0]\n",
    "weather_details"
   ]
  },
  {
   "cell_type": "code",
   "execution_count": 21,
   "metadata": {},
   "outputs": [
    {
     "output_type": "execute_result",
     "data": {
      "text/plain": "27.1"
     },
     "metadata": {},
     "execution_count": 21
    }
   ],
   "source": [
    "temp = weather_details['data']['instant']['details']['air_temperature']\n",
    "temp"
   ]
  },
  {
   "cell_type": "code",
   "execution_count": 22,
   "metadata": {
    "tags": []
   },
   "outputs": [
    {
     "output_type": "stream",
     "name": "stdout",
     "text": "https://api.met.no/weatherapi/locationforecast/2.0/compact?lat=17.3841&lon=78.4564\n27.1\n"
    }
   ],
   "source": [
    "print(response.url)\n",
    "print(temp)"
   ]
  },
  {
   "cell_type": "code",
   "execution_count": 24,
   "metadata": {},
   "outputs": [],
   "source": [
    "#Automating the above stuff using functions!\n",
    "def fetch_ip_address():\n",
    "    \"\"\"Return a string of my IP Address\"\"\"\n",
    "    response = requests.get('https://api.ipify.org')\n",
    "    return response.text"
   ]
  },
  {
   "cell_type": "code",
   "execution_count": 27,
   "metadata": {},
   "outputs": [],
   "source": [
    "def locate_ip_address(ip_address):\n",
    "    \"\"\"Return lat & lon based data for a given IP address\"\"\"\n",
    "    response = requests.get('http://ip-api.com/json/{ip_address}')\n",
    "    data = response.json()\n",
    "    return data['lat'], data['lon']\n"
   ]
  },
  {
   "cell_type": "code",
   "execution_count": 26,
   "metadata": {},
   "outputs": [],
   "source": [
    "def get_weather(lat,lon):\n",
    "    \"\"\"Return current temperature for a location given the latitude & longitude.\"\"\"\n",
    "\n",
    "    url_base = 'https://api.met.no/weatherapi/locationforecast/2.0/compact'\n",
    "    response = requests.get(url_base,params={'lat': lat, 'lon': lon})\n",
    "    data =response.json()\n",
    "    temperature = data['properties']['timeseries'][0]['data']['instant']['details']['air_temperature']\n",
    "    \n",
    "    return temperature "
   ]
  },
  {
   "cell_type": "code",
   "execution_count": null,
   "metadata": {},
   "outputs": [],
   "source": []
  },
  {
   "cell_type": "code",
   "execution_count": null,
   "metadata": {},
   "outputs": [],
   "source": []
  },
  {
   "cell_type": "code",
   "execution_count": null,
   "metadata": {},
   "outputs": [],
   "source": []
  },
  {
   "cell_type": "code",
   "execution_count": null,
   "metadata": {},
   "outputs": [],
   "source": []
  },
  {
   "cell_type": "code",
   "execution_count": null,
   "metadata": {},
   "outputs": [],
   "source": []
  },
  {
   "cell_type": "code",
   "execution_count": null,
   "metadata": {},
   "outputs": [],
   "source": []
  },
  {
   "cell_type": "code",
   "execution_count": null,
   "metadata": {},
   "outputs": [],
   "source": []
  },
  {
   "cell_type": "code",
   "execution_count": null,
   "metadata": {},
   "outputs": [],
   "source": []
  },
  {
   "cell_type": "code",
   "execution_count": null,
   "metadata": {},
   "outputs": [],
   "source": []
  },
  {
   "cell_type": "code",
   "execution_count": null,
   "metadata": {},
   "outputs": [],
   "source": []
  },
  {
   "cell_type": "code",
   "execution_count": null,
   "metadata": {},
   "outputs": [],
   "source": []
  },
  {
   "cell_type": "code",
   "execution_count": null,
   "metadata": {},
   "outputs": [],
   "source": []
  },
  {
   "cell_type": "code",
   "execution_count": null,
   "metadata": {},
   "outputs": [],
   "source": []
  },
  {
   "cell_type": "code",
   "execution_count": null,
   "metadata": {},
   "outputs": [],
   "source": []
  },
  {
   "cell_type": "code",
   "execution_count": null,
   "metadata": {},
   "outputs": [],
   "source": []
  },
  {
   "cell_type": "code",
   "execution_count": null,
   "metadata": {},
   "outputs": [],
   "source": []
  },
  {
   "cell_type": "code",
   "execution_count": null,
   "metadata": {},
   "outputs": [],
   "source": []
  }
 ]
}